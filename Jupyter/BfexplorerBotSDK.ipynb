{
 "cells": [
  {
   "cell_type": "markdown",
   "metadata": {},
   "source": [
    "# Betfair - Bfexplorer BOT SDK\n",
    "\n",
    "More information about betfair trading software:\n",
    "\n",
    "http://bfexplorer.net/Products/Bfexplorer\n",
    "\n",
    "Bfexplorer BOT SDK:\n",
    "\n",
    "https://github.com/StefanBelo/Bfexplorer-BOT-SDK"
   ]
  },
  {
   "cell_type": "markdown",
   "metadata": {},
   "source": [
    "# Setup\n",
    "\n",
    "1)\tInstall bfexplorer software: http://bfexplorer.net/Products/FreeTrial\n",
    "\n",
    "2)\tOpen bfexplorer app, and login with your betfair credentials to activate your betfair api access."
   ]
  },
  {
   "cell_type": "markdown",
   "metadata": {},
   "source": [
    "To use bfexplorer assemblies we must reference them:"
   ]
  },
  {
   "cell_type": "code",
   "execution_count": 34,
   "metadata": {},
   "outputs": [],
   "source": [
    "#I \"C:\\Program Files (x86)\\BeloSoft\\Bfexplorer\"\n",
    "\n",
    "#r \"BeloSoft.Data.dll\"\n",
    "#r \"BeloSoft.Betfair.API.dll\"\n",
    "#r \"BeloSoft.Bfexplorer.API.dll\"\n",
    "\n",
    "#r \"BeloSoft.Bfexplorer.Domain.dll\"\n",
    "#r \"BeloSoft.Bfexplorer.Service.dll\"\n",
    "#r \"BeloSoft.Bfexplorer.Service.Core.dll\"    "
   ]
  },
  {
   "cell_type": "code",
   "execution_count": 35,
   "metadata": {},
   "outputs": [],
   "source": [
    "open BeloSoft.Data\n",
    "open BeloSoft.Bfexplorer.Domain\n",
    "open BeloSoft.Bfexplorer.Service"
   ]
  },
  {
   "cell_type": "code",
   "execution_count": 36,
   "metadata": {},
   "outputs": [],
   "source": [
    "let bfexplorerService = BfexplorerService()"
   ]
  },
  {
   "cell_type": "code",
   "execution_count": 37,
   "metadata": {},
   "outputs": [],
   "source": [
    "// Your betfair credentials should be added to the script file named: BetfairCredentials.fsx\n",
    "\n",
    "(*\n",
    "module MyData.Credentials\n",
    "    \n",
    "[<Literal>]\n",
    "let Username = \"your user name\"\n",
    "\n",
    "[<Literal>]\n",
    "let Password = \"your password\"\n",
    "*)\n",
    "\n",
    "#load \"BetfairCredentials.fsx\"\n",
    "    \n",
    "open MyData\n",
    "\n",
    "// Or just type your credentials directly to Login function:\n",
    "\n",
    "// let loginResult = bfexplorerService.Login(“username”, “password”) |> Async.RunSynchronously"
   ]
  },
  {
   "cell_type": "code",
   "execution_count": 38,
   "metadata": {},
   "outputs": [],
   "source": [
    "let loginResult = bfexplorerService.Login(Credentials.Username, Credentials.Password) |> Async.RunSynchronously"
   ]
  },
  {
   "cell_type": "code",
   "execution_count": 39,
   "metadata": {
    "scrolled": true
   },
   "outputs": [
    {
     "name": "stdout",
     "output_type": "stream",
     "text": [
      "Login to betfair has been successful.\n"
     ]
    },
    {
     "data": {
      "text/html": [
       "<null>"
      ]
     },
     "execution_count": 39,
     "metadata": {},
     "output_type": "execute_result"
    }
   ],
   "source": [
    "printfn \"%s\" <|\n",
    "    if loginResult.IsSuccessResult\n",
    "    then\n",
    "        \"Login to betfair has been successful.\"\n",
    "    else\n",
    "        let _isAuthorized, _isActiveSubscriber, errorMessage = loginResult.FailureResult\n",
    "        \n",
    "        sprintf \"Failed to login: %s\" errorMessage"
   ]
  },
  {
   "cell_type": "markdown",
   "metadata": {},
   "source": [
    "Get market catalogues for win horse racing markets in GB and IE."
   ]
  },
  {
   "cell_type": "code",
   "execution_count": 40,
   "metadata": {},
   "outputs": [],
   "source": [
    "let filter = [ BetEventTypeIds [| 7 |]; MarketTypeCodes [| \"WIN\" |]; Countries [| \"GB\"; \"IE\" |] ]"
   ]
  },
  {
   "cell_type": "code",
   "execution_count": 41,
   "metadata": {},
   "outputs": [],
   "source": [
    "let marketCataloguesResult = bfexplorerService.GetMarketCatalogues(filter, 1000) |> Async.RunSynchronously"
   ]
  },
  {
   "cell_type": "code",
   "execution_count": 9,
   "metadata": {},
   "outputs": [
    {
     "name": "stdout",
     "output_type": "stream",
     "text": [
      "Catt 1st Jan - 12:55 3m1f Beg Chs\n",
      "Tram 1st Jan - 13:00 2m Mdn Hrd\n",
      "Fake 1st Jan - 13:05 2m4f Hcap Hrd\n",
      "Sthl 1st Jan - 13:10 1m Hcap\n",
      "Chelt 1st Jan - 13:15 2m4f Listed Nov Hrd\n",
      "Fairy 1st Jan - 13:20 2m4f Mdn Hrd\n",
      "Catt 1st Jan - 13:25 2m3f Nov Hrd\n",
      "Muss 1st Jan - 13:30 1m7f Juv Hrd\n",
      "Tram 1st Jan - 13:35 2m Hcap Hrd\n",
      "Fake 1st Jan - 13:35 3m5f Hcap Chs\n",
      "Extr 1st Jan - 13:40 2m3f Hcap Chs\n",
      "Sthl 1st Jan - 13:45 5f Nov Stks\n",
      "Chelt 1st Jan - 13:50 3m2f Hcap Chs\n",
      "Fairy 1st Jan - 13:55 2m2f Nov Hrd\n",
      "Catt 1st Jan - 14:00 1m7f Hcap Hrd\n",
      "Muss 1st Jan - 14:05 3m Hcap Hrd\n",
      "Tram 1st Jan - 14:10 2m5f Mdn Hrd\n",
      "Fake 1st Jan - 14:10 2m4f Hcap Hrd\n",
      "Extr 1st Jan - 14:15 2m3f Nov Hcap Chs\n",
      "Sthl 1st Jan - 14:20 5f Hcap\n",
      "Chelt 1st Jan - 14:25 2m4f Grd2 Nov Chs\n",
      "Fairy 1st Jan - 14:30 2m Hcap Hrd\n",
      "Catt 1st Jan - 14:35 1m7f Hcap Hrd\n",
      "Muss 1st Jan - 14:40 2m4f Hcap Chs\n",
      "Fake 1st Jan - 14:45 2m7f Hcap Hrd\n",
      "Tram 1st Jan - 14:45 2m5f Hcap Hrd\n",
      "Extr 1st Jan - 14:50 2m2f Hcap Hrd\n",
      "Sthl 1st Jan - 14:55 7f Hcap\n",
      "Chelt 1st Jan - 15:00 2m4f Grd3 Hcap Chs\n",
      "Fairy 1st Jan - 15:05 3m Hcap Hrd\n",
      "Catt 1st Jan - 15:10 1m7f Nov Hrd\n",
      "Muss 1st Jan - 15:15 1m7f Hcap Hrd\n",
      "Tram 1st Jan - 15:20 2m5f Grd3 Chs\n",
      "Fake 1st Jan - 15:20 2m5f Hcap Chs\n",
      "Extr 1st Jan - 15:25 3m Hcap Chs\n",
      "Sthl 1st Jan - 15:30 1m Hcap\n",
      "Chelt 1st Jan - 15:35 3m Hcap Hrd\n",
      "Fairy 1st Jan - 15:40 2m5f Beg Chs\n",
      "Catt 1st Jan - 15:45 2m3f Hcap Chs\n",
      "Muss 1st Jan - 15:50 2m4f Hcap Hrd\n",
      "Tram 1st Jan - 15:55 2m Nov Chs\n",
      "Fake 1st Jan - 15:55 2m Mdn Hrd\n",
      "Extr 1st Jan - 16:00 2m1f Nov Hrd\n",
      "Sthl 1st Jan - 16:05 1m3f Hcap\n",
      "Chelt 1st Jan - 16:10 2m4f Grd2 Hrd\n",
      "Fairy 1st Jan - 16:15 3m1f Hcap Chs\n",
      "Catt 1st Jan - 16:20 3m1f Hcap Hrd\n",
      "Muss 1st Jan - 16:25 3m Hcap Chs\n",
      "Fake 1st Jan - 16:30 2m Mdn Hrd\n",
      "Tram 1st Jan - 16:30 2m5f Hcap Chs\n",
      "Extr 1st Jan - 16:35 2m2f Mdn Hrd\n",
      "Sthl 1st Jan - 16:40 5f Hcap\n",
      "Fairy 1st Jan - 16:45 2m INHF\n",
      "Chelt 1st Jan - 16:50 1m6f Listed NHF\n",
      "Extr 1st Jan - 17:05 2m1f Mdn NHF\n",
      "Ling 2nd Jan - 12:45 1m Hcap\n",
      "Ling 2nd Jan - 13:15 1m Hcap\n",
      "Ayr  2nd Jan - 13:30 2m4f Mdn Hrd\n",
      "Ling 2nd Jan - 13:45 7f Hcap\n",
      "Ayr  2nd Jan - 14:00 3m Hcap Hrd\n",
      "Ling 2nd Jan - 14:15 6f Hcap\n",
      "Ayr  2nd Jan - 14:35 2m Nov Hrd\n",
      "Ling 2nd Jan - 14:50 6f Nov Stks\n",
      "Ling 2nd Jan - 15:25 5f Hcap\n",
      "Ling 2nd Jan - 15:55 1m4f Hcap\n",
      "Ling 2nd Jan - 16:30 1m2f Hcap\n",
      "ChelmC 2nd Jan - 17:00 1m2f Class Stks\n",
      "ChelmC 2nd Jan - 17:30 7f Hcap\n",
      "ChelmC 2nd Jan - 18:00 7f Hcap\n",
      "ChelmC 2nd Jan - 18:30 5f Hcap\n",
      "ChelmC 2nd Jan - 19:00 1m6f Hcap\n",
      "ChelmC 2nd Jan - 19:30 1m Hcap\n",
      "ChelmC 2nd Jan - 20:00 1m Nov Stks\n",
      "ChelmC 2nd Jan - 20:30 1m Nov Stks\n"
     ]
    },
    {
     "data": {
      "text/html": [
       "<null>"
      ]
     },
     "execution_count": 9,
     "metadata": {},
     "output_type": "execute_result"
    }
   ],
   "source": [
    "printfn \"%s\" <|\n",
    "    match marketCataloguesResult with\n",
    "    | DataResult.Success marketCatalogues ->\n",
    "\n",
    "        marketCatalogues\n",
    "        |> Seq.map (fun marketCatalogue -> sprintf \"%A\" marketCatalogue.MarketInfo)\n",
    "        |> String.concat \"\\n\"\n",
    "\n",
    "    | DataResult.Failure errorMessage -> sprintf \"Failed to GetMarketCatalogues: %s\" errorMessage"
   ]
  },
  {
   "cell_type": "markdown",
   "metadata": {},
   "source": [
    "Take the first market and load selections data:"
   ]
  },
  {
   "cell_type": "code",
   "execution_count": 42,
   "metadata": {},
   "outputs": [],
   "source": [
    "let marketCatalogue = marketCataloguesResult.SuccessResult |> Seq.head\n",
    "\n",
    "let marketResult = bfexplorerService.GetMarket(marketCatalogue.MarketInfo) |> Async.RunSynchronously\n"
   ]
  },
  {
   "cell_type": "code",
   "execution_count": 43,
   "metadata": {},
   "outputs": [],
   "source": [
    "let toString (market : Market) =\n",
    "    sprintf \"%s\\n%s\" market.MarketFullName (\n",
    "        market.Selections\n",
    "        |> Seq.filter (fun selection -> selection.Status = SelectionStatus.Active)\n",
    "        |> Seq.map (fun selection -> sprintf \"\\t%s: %.2f | %.2f\" selection.Name selection.LastPriceTraded selection.TotalMatched)\n",
    "        |> String.concat \"\\n\"\n",
    "    )\n"
   ]
  },
  {
   "cell_type": "code",
   "execution_count": 44,
   "metadata": {
    "scrolled": false
   },
   "outputs": [
    {
     "name": "stdout",
     "output_type": "stream",
     "text": [
      "Extr 1st Jan - 15:25 3m Hcap Chs\n",
      "\tCaptain Drake: 1.01 | 140740.12\n",
      "\tWestern Climate: 1000.00 | 44808.68\n",
      "\tKnow The Score: 1000.00 | 59417.62\n",
      "\tSnuff Box: 1000.00 | 24304.22\n",
      "\tThe Kings Writ: 1000.00 | 40149.64\n",
      "\tDancing Shadow: 1000.00 | 16637.15\n",
      "\tBarbrook Star: 1000.00 | 17679.45\n",
      "\tMuffins For Tea: 1000.00 | 20683.09\n",
      "\tMr Caffrey: 1000.00 | 16197.79\n",
      "\tCoopers Square: 1000.00 | 8348.64\n"
     ]
    },
    {
     "data": {
      "text/html": [
       "<null>"
      ]
     },
     "execution_count": 44,
     "metadata": {},
     "output_type": "execute_result"
    }
   ],
   "source": [
    "printfn \"%s\" <|\n",
    "    match marketResult with\n",
    "    | DataResult.Success market -> toString market\n",
    "    | DataResult.Failure errorMessage -> sprintf \"Failed to GetMarket: %s\" errorMessage    "
   ]
  },
  {
   "cell_type": "markdown",
   "metadata": {},
   "source": [
    "Update the market data:"
   ]
  },
  {
   "cell_type": "code",
   "execution_count": 28,
   "metadata": {},
   "outputs": [],
   "source": [
    "let market = marketResult.SuccessResult\n",
    "\n",
    "let showMarketData() =\n",
    "    market |> toString |> printfn \"%s\""
   ]
  },
  {
   "cell_type": "code",
   "execution_count": 31,
   "metadata": {},
   "outputs": [
    {
     "name": "stdout",
     "output_type": "stream",
     "text": [
      "Catt 1st Jan - 12:55 3m1f Beg Chs\n",
      "\tDeise Aba: 1.72 | 25620.72\n",
      "\tJack Devine: 2.38 | 14644.39\n"
     ]
    },
    {
     "data": {
      "text/html": [
       "<null>"
      ]
     },
     "execution_count": 31,
     "metadata": {},
     "output_type": "execute_result"
    }
   ],
   "source": [
    "let updateMarketResult = bfexplorerService.UpdateMarketBaseData(market) |> Async.RunSynchronously\n",
    "\n",
    "if updateMarketResult.IsSuccessResult\n",
    "then\n",
    "    showMarketData()"
   ]
  },
  {
   "cell_type": "markdown",
   "metadata": {},
   "source": [
    "All done, we can logout now:"
   ]
  },
  {
   "cell_type": "code",
   "execution_count": 32,
   "metadata": {},
   "outputs": [],
   "source": [
    "let resultLogout = bfexplorerService.Logout() |> Async.RunSynchronously "
   ]
  },
  {
   "cell_type": "code",
   "execution_count": 33,
   "metadata": {},
   "outputs": [
    {
     "name": "stdout",
     "output_type": "stream",
     "text": [
      "true\n"
     ]
    },
    {
     "data": {
      "text/html": [
       "<null>"
      ]
     },
     "execution_count": 33,
     "metadata": {},
     "output_type": "execute_result"
    }
   ],
   "source": [
    "printfn \"%A\" resultLogout.IsSuccessResult"
   ]
  },
  {
   "cell_type": "code",
   "execution_count": null,
   "metadata": {},
   "outputs": [],
   "source": []
  }
 ],
 "metadata": {
  "celltoolbar": "Raw Cell Format",
  "kernelspec": {
   "display_name": ".NET (F#)",
   "language": "F#",
   "name": ".net-fsharp"
  },
  "language": "fsharp",
  "language_info": {
   "file_extension": ".fs",
   "mimetype": "text/x-fsharp",
   "name": "C#",
   "pygments_lexer": "fsharp",
   "version": "4.5"
  }
 },
 "nbformat": 4,
 "nbformat_minor": 4
}
