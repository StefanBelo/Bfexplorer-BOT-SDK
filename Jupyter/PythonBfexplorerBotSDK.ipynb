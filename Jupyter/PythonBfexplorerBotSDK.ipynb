{
 "cells": [
  {
   "cell_type": "code",
   "execution_count": 71,
   "metadata": {},
   "outputs": [
    {
     "data": {
      "text/plain": [
       "<System.Reflection.RuntimeAssembly at 0x206a5eff908>"
      ]
     },
     "execution_count": 71,
     "metadata": {},
     "output_type": "execute_result"
    }
   ],
   "source": [
    "import clr\n",
    "\n",
    "clr.AddReference(\"C:\\Program Files (x86)\\BeloSoft\\Bfexplorer\\FSharp.Core.dll\")\n",
    "\n",
    "clr.AddReference(\"C:\\Program Files (x86)\\BeloSoft\\Bfexplorer\\BeloSoft.Data.dll\")\n",
    "clr.AddReference(\"C:\\Program Files (x86)\\BeloSoft\\Bfexplorer\\BeloSoft.Betfair.API.dll\")\n",
    "clr.AddReference(\"C:\\Program Files (x86)\\BeloSoft\\Bfexplorer\\BeloSoft.Bfexplorer.API.dll\")\n",
    "\n",
    "clr.AddReference(\"C:\\Program Files (x86)\\BeloSoft\\Bfexplorer\\BeloSoft.Bfexplorer.Domain.dll\")\n",
    "clr.AddReference(\"C:\\Program Files (x86)\\BeloSoft\\Bfexplorer\\BeloSoft.Bfexplorer.Service.dll\")\n",
    "clr.AddReference(\"C:\\Program Files (x86)\\BeloSoft\\Bfexplorer\\BeloSoft.Bfexplorer.Service.Core.dll\")"
   ]
  },
  {
   "cell_type": "code",
   "execution_count": 87,
   "metadata": {},
   "outputs": [
    {
     "ename": "ModuleNotFoundError",
     "evalue": "No module named 'FSharp'",
     "output_type": "error",
     "traceback": [
      "\u001b[1;31m---------------------------------------------------------------------------\u001b[0m",
      "\u001b[1;31mModuleNotFoundError\u001b[0m                       Traceback (most recent call last)",
      "\u001b[1;32m<ipython-input-87-d9a2f3496723>\u001b[0m in \u001b[0;36m<module>\u001b[1;34m\u001b[0m\n\u001b[1;32m----> 1\u001b[1;33m \u001b[1;32mfrom\u001b[0m \u001b[0mFSharp\u001b[0m\u001b[1;33m.\u001b[0m\u001b[0mCore\u001b[0m\u001b[1;33m.\u001b[0m\u001b[0mdll\u001b[0m \u001b[1;32mimport\u001b[0m \u001b[0mFSharpAsync\u001b[0m\u001b[1;33m\u001b[0m\u001b[1;33m\u001b[0m\u001b[0m\n\u001b[0m\u001b[0;32m      2\u001b[0m \u001b[1;33m\u001b[0m\u001b[0m\n\u001b[0;32m      3\u001b[0m \u001b[1;32mfrom\u001b[0m \u001b[0mBeloSoft\u001b[0m\u001b[1;33m.\u001b[0m\u001b[0mData\u001b[0m \u001b[1;32mimport\u001b[0m \u001b[1;33m*\u001b[0m\u001b[1;33m\u001b[0m\u001b[1;33m\u001b[0m\u001b[0m\n\u001b[0;32m      4\u001b[0m \u001b[1;32mfrom\u001b[0m \u001b[0mBeloSoft\u001b[0m\u001b[1;33m.\u001b[0m\u001b[0mBfexplorer\u001b[0m\u001b[1;33m.\u001b[0m\u001b[0mDomain\u001b[0m \u001b[1;32mimport\u001b[0m \u001b[1;33m*\u001b[0m\u001b[1;33m\u001b[0m\u001b[1;33m\u001b[0m\u001b[0m\n\u001b[0;32m      5\u001b[0m \u001b[1;32mfrom\u001b[0m \u001b[0mBeloSoft\u001b[0m\u001b[1;33m.\u001b[0m\u001b[0mBfexplorer\u001b[0m\u001b[1;33m.\u001b[0m\u001b[0mService\u001b[0m \u001b[1;32mimport\u001b[0m \u001b[1;33m*\u001b[0m\u001b[1;33m\u001b[0m\u001b[1;33m\u001b[0m\u001b[0m\n",
      "\u001b[1;31mModuleNotFoundError\u001b[0m: No module named 'FSharp'"
     ]
    }
   ],
   "source": [
    "from FSharp.Core import FSharpAsync\n",
    "\n",
    "from BeloSoft.Data import *\n",
    "from BeloSoft.Bfexplorer.Domain import *\n",
    "from BeloSoft.Bfexplorer.Service import *"
   ]
  },
  {
   "cell_type": "code",
   "execution_count": 69,
   "metadata": {},
   "outputs": [],
   "source": [
    "bfexplorerService = BfexplorerService()"
   ]
  },
  {
   "cell_type": "code",
   "execution_count": 80,
   "metadata": {},
   "outputs": [
    {
     "ename": "AttributeError",
     "evalue": "'RuntimeAssembly' object has no attribute 'FSharpAsync'",
     "output_type": "error",
     "traceback": [
      "\u001b[1;31m---------------------------------------------------------------------------\u001b[0m",
      "\u001b[1;31mAttributeError\u001b[0m                            Traceback (most recent call last)",
      "\u001b[1;32m<ipython-input-80-d90299eb77db>\u001b[0m in \u001b[0;36m<module>\u001b[1;34m\u001b[0m\n\u001b[1;32m----> 1\u001b[1;33m \u001b[0mresult\u001b[0m \u001b[1;33m=\u001b[0m \u001b[0mFSharp\u001b[0m\u001b[1;33m.\u001b[0m\u001b[0mFSharpAsync\u001b[0m\u001b[1;33m.\u001b[0m\u001b[0mRunSynchronously\u001b[0m\u001b[1;33m(\u001b[0m\u001b[0mbfexplorerService\u001b[0m\u001b[1;33m.\u001b[0m\u001b[0mLogin\u001b[0m\u001b[1;33m(\u001b[0m\u001b[1;34m\"StefanBelo\"\u001b[0m\u001b[1;33m,\u001b[0m \u001b[1;34m\"StekoBe7482\"\u001b[0m\u001b[1;33m)\u001b[0m\u001b[1;33m)\u001b[0m\u001b[1;33m\u001b[0m\u001b[1;33m\u001b[0m\u001b[0m\n\u001b[0m",
      "\u001b[1;31mAttributeError\u001b[0m: 'RuntimeAssembly' object has no attribute 'FSharpAsync'"
     ]
    }
   ],
   "source": [
    "result = FSharp.FSharpAsync.RunSynchronously(bfexplorerService.Login(\"StefanBelo\", \"StekoBe7482\"))"
   ]
  },
  {
   "cell_type": "code",
   "execution_count": 88,
   "metadata": {},
   "outputs": [],
   "source": [
    "market = DummyData.NoMarket"
   ]
  },
  {
   "cell_type": "code",
   "execution_count": 98,
   "metadata": {},
   "outputs": [
    {
     "ename": "AttributeError",
     "evalue": "'21294, Culture=neutral, PublicKeyToken=null]]' object has no attribute 'GetArray'",
     "output_type": "error",
     "traceback": [
      "\u001b[1;31m---------------------------------------------------------------------------\u001b[0m",
      "\u001b[1;31mAttributeError\u001b[0m                            Traceback (most recent call last)",
      "\u001b[1;32m<ipython-input-98-635515c188d0>\u001b[0m in \u001b[0;36m<module>\u001b[1;34m\u001b[0m\n\u001b[1;32m----> 1\u001b[1;33m \u001b[0mselections\u001b[0m \u001b[1;33m=\u001b[0m \u001b[0mmarket\u001b[0m\u001b[1;33m.\u001b[0m\u001b[0mSelections\u001b[0m\u001b[1;33m.\u001b[0m\u001b[0mGetArray\u001b[0m\u001b[1;33m(\u001b[0m\u001b[1;33m)\u001b[0m\u001b[1;33m\u001b[0m\u001b[1;33m\u001b[0m\u001b[0m\n\u001b[0m",
      "\u001b[1;31mAttributeError\u001b[0m: '21294, Culture=neutral, PublicKeyToken=null]]' object has no attribute 'GetArray'"
     ]
    }
   ],
   "source": [
    "selections = market.Selections.GetArray()"
   ]
  },
  {
   "cell_type": "code",
   "execution_count": null,
   "metadata": {},
   "outputs": [],
   "source": []
  }
 ],
 "metadata": {
  "kernelspec": {
   "display_name": "Python 3.7.4 64-bit ('base': conda)",
   "language": "python",
   "name": "python37464bitbaseconda1e879a38113b4803b64a57188db199d7"
  },
  "language_info": {
   "codemirror_mode": {
    "name": "ipython",
    "version": 3
   },
   "file_extension": ".py",
   "mimetype": "text/x-python",
   "name": "python",
   "nbconvert_exporter": "python",
   "pygments_lexer": "ipython3",
   "version": "3.7.4"
  }
 },
 "nbformat": 4,
 "nbformat_minor": 2
}
